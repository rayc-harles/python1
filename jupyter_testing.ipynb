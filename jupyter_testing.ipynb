{
 "cells": [
  {
   "cell_type": "code",
   "execution_count": 1,
   "metadata": {},
   "outputs": [
    {
     "name": "stdout",
     "output_type": "stream",
     "text": [
      "Welcome to my testing world\n",
      "My wife's name is Darlene Jane R. Villaruel and daughter's name is Ayle Bellona R. Vilaruel\n",
      "I love my family for life\n",
      "Away - I did not let my wife finish what she wants to say and susi\n"
     ]
    }
   ],
   "source": [
    "print(\"Welcome to my testing world\")\n",
    "\n",
    "family  = {'mommy': 'Darlene Jane R. Villaruel',\n",
    "         'daughter': 'Ayle Bellona R. Vilaruel'}\n",
    "\n",
    "print(f\"My wife's name is {family['mommy']} and daughter's name is {family['daughter']}\")\n",
    "print(\"I love my family for life\")\n",
    "\n",
    "\n",
    "journal_entry = {\n",
    "   '2025-02-01': 'Away - I did not let my wife finish what she wants to say and susi'\n",
    "}\n",
    "\n",
    "print(journal_entry['2025-02-01'])"
   ]
  }
 ],
 "metadata": {
  "kernelspec": {
   "display_name": "Python 3",
   "language": "python",
   "name": "python3"
  },
  "language_info": {
   "codemirror_mode": {
    "name": "ipython",
    "version": 3
   },
   "file_extension": ".py",
   "mimetype": "text/x-python",
   "name": "python",
   "nbconvert_exporter": "python",
   "pygments_lexer": "ipython3",
   "version": "3.13.1"
  }
 },
 "nbformat": 4,
 "nbformat_minor": 2
}
